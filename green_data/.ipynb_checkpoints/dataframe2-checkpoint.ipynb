{
 "cells": [
  {
   "cell_type": "markdown",
   "id": "edad076d",
   "metadata": {},
   "source": [
    "# 운동 데이터 프레임 만들기"
   ]
  },
  {
   "cell_type": "code",
   "execution_count": 10,
   "id": "8ea78be2",
   "metadata": {},
   "outputs": [
    {
     "ename": "AttributeError",
     "evalue": "'dict' object has no attribute 'set_index'",
     "output_type": "error",
     "traceback": [
      "\u001b[1;31m---------------------------------------------------------------------------\u001b[0m",
      "\u001b[1;31mAttributeError\u001b[0m                            Traceback (most recent call last)",
      "Cell \u001b[1;32mIn[10], line 7\u001b[0m\n\u001b[0;32m      1\u001b[0m \u001b[38;5;28;01mimport\u001b[39;00m \u001b[38;5;21;01mpandas\u001b[39;00m \u001b[38;5;28;01mas\u001b[39;00m \u001b[38;5;21;01mpd\u001b[39;00m\n\u001b[0;32m      2\u001b[0m practice\u001b[38;5;241m=\u001b[39m{\n\u001b[0;32m      3\u001b[0m \u001b[38;5;124m'\u001b[39m\u001b[38;5;124m날짜\u001b[39m\u001b[38;5;124m'\u001b[39m: [],\n\u001b[0;32m      4\u001b[0m \u001b[38;5;124m'\u001b[39m\u001b[38;5;124m운동\u001b[39m\u001b[38;5;124m'\u001b[39m: [],\n\u001b[0;32m      5\u001b[0m \u001b[38;5;124m'\u001b[39m\u001b[38;5;124m운동량\u001b[39m\u001b[38;5;124m'\u001b[39m: []\n\u001b[0;32m      6\u001b[0m     }\n\u001b[1;32m----> 7\u001b[0m practice\u001b[38;5;241m=\u001b[39m\u001b[43mpractice\u001b[49m\u001b[38;5;241;43m.\u001b[39;49m\u001b[43mset_index\u001b[49m(\u001b[38;5;124m'\u001b[39m\u001b[38;5;124m날짜\u001b[39m\u001b[38;5;124m'\u001b[39m)\n\u001b[0;32m      8\u001b[0m practice    \n\u001b[0;32m      9\u001b[0m \u001b[38;5;66;03m#데이파 추가, 변경 -loc[]\u001b[39;00m\n",
      "\u001b[1;31mAttributeError\u001b[0m: 'dict' object has no attribute 'set_index'"
     ]
    }
   ],
   "source": [
    "import pandas as pd\n",
    "practice=pd.DataFrame{\n",
    "'날짜': [],\n",
    "'운동': [],\n",
    "'운동량': []\n",
    "    }\n",
    "practice=practice.set_index('날짜')\n",
    "practice    \n",
    "#데이파 추가, 변경 -loc[]\n",
    "practice.loc[0] =['23-3-1', '달리기', 1]\n",
    "    "
   ]
  },
  {
   "cell_type": "code",
   "execution_count": 9,
   "id": "22d303ab",
   "metadata": {},
   "outputs": [
    {
     "ename": "AttributeError",
     "evalue": "'dict' object has no attribute 'loc'",
     "output_type": "error",
     "traceback": [
      "\u001b[1;31m---------------------------------------------------------------------------\u001b[0m",
      "\u001b[1;31mAttributeError\u001b[0m                            Traceback (most recent call last)",
      "Cell \u001b[1;32mIn[9], line 1\u001b[0m\n\u001b[1;32m----> 1\u001b[0m \u001b[43mpractice\u001b[49m\u001b[38;5;241;43m.\u001b[39;49m\u001b[43mloc\u001b[49m[\u001b[38;5;241m1\u001b[39m] \u001b[38;5;241m=\u001b[39m[\u001b[38;5;124m'\u001b[39m\u001b[38;5;124m23-3-2\u001b[39m\u001b[38;5;124m'\u001b[39m, \u001b[38;5;124m'\u001b[39m\u001b[38;5;124m달리기\u001b[39m\u001b[38;5;124m'\u001b[39m, \u001b[38;5;241m1\u001b[39m]\n\u001b[0;32m      2\u001b[0m practice\u001b[38;5;241m.\u001b[39mloc[\u001b[38;5;241m2\u001b[39m] \u001b[38;5;241m=\u001b[39m[\u001b[38;5;124m'\u001b[39m\u001b[38;5;124m23-3-3\u001b[39m\u001b[38;5;124m'\u001b[39m, \u001b[38;5;124m'\u001b[39m\u001b[38;5;124m걷기\u001b[39m\u001b[38;5;124m'\u001b[39m, \u001b[38;5;241m1\u001b[39m]\n\u001b[0;32m      3\u001b[0m practice\u001b[38;5;241m.\u001b[39mloc[\u001b[38;5;241m3\u001b[39m] \u001b[38;5;241m=\u001b[39m[\u001b[38;5;124m'\u001b[39m\u001b[38;5;124m23-3-4\u001b[39m\u001b[38;5;124m'\u001b[39m, \u001b[38;5;124m'\u001b[39m\u001b[38;5;124m쉬기\u001b[39m\u001b[38;5;124m'\u001b[39m, \u001b[38;5;241m1\u001b[39m]\n",
      "\u001b[1;31mAttributeError\u001b[0m: 'dict' object has no attribute 'loc'"
     ]
    }
   ],
   "source": [
    "practice.loc[1] =['23-3-2', '달리기', 1]\n",
    "practice.loc[2] =['23-3-3', '걷기', 1]\n",
    "practice.loc[3] =['23-3-4', '쉬기', 1]\n",
    "practice.loc[4] =['23-3-3', '자기', 1.5]\n",
    "practice.loc[5] =['23-3-6', '달리기', 1]\n",
    "practice"
   ]
  },
  {
   "cell_type": "code",
   "execution_count": null,
   "id": "b2ac7b47",
   "metadata": {},
   "outputs": [],
   "source": []
  },
  {
   "cell_type": "code",
   "execution_count": null,
   "id": "3e07c0a1",
   "metadata": {},
   "outputs": [],
   "source": []
  },
  {
   "cell_type": "code",
   "execution_count": null,
   "id": "09c5f031",
   "metadata": {},
   "outputs": [],
   "source": []
  }
 ],
 "metadata": {
  "kernelspec": {
   "display_name": "Python 3 (ipykernel)",
   "language": "python",
   "name": "python3"
  },
  "language_info": {
   "codemirror_mode": {
    "name": "ipython",
    "version": 3
   },
   "file_extension": ".py",
   "mimetype": "text/x-python",
   "name": "python",
   "nbconvert_exporter": "python",
   "pygments_lexer": "ipython3",
   "version": "3.10.9"
  }
 },
 "nbformat": 4,
 "nbformat_minor": 5
}
